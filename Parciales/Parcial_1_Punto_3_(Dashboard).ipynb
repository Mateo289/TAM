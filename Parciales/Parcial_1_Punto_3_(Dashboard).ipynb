{
  "nbformat": 4,
  "nbformat_minor": 0,
  "metadata": {
    "colab": {
      "provenance": [],
      "include_colab_link": true
    },
    "kernelspec": {
      "name": "python3",
      "display_name": "Python 3"
    },
    "language_info": {
      "name": "python"
    }
  },
  "cells": [
    {
      "cell_type": "markdown",
      "metadata": {
        "id": "view-in-github",
        "colab_type": "text"
      },
      "source": [
        "<a href=\"https://colab.research.google.com/github/Mateo289/TAM/blob/main/Parciales/Parcial_1_Punto_3_(Dashboard).ipynb\" target=\"_parent\"><img src=\"https://colab.research.google.com/assets/colab-badge.svg\" alt=\"Open In Colab\"/></a>"
      ]
    },
    {
      "cell_type": "code",
      "source": [
        "!pip install pyngrok\n",
        "!pip install streamlit"
      ],
      "metadata": {
        "colab": {
          "base_uri": "https://localhost:8080/"
        },
        "id": "t-BULG6X4r46",
        "outputId": "6cf78064-24e9-4fe1-be66-82a20ae58944"
      },
      "execution_count": null,
      "outputs": [
        {
          "output_type": "stream",
          "name": "stdout",
          "text": [
            "Requirement already satisfied: pyngrok in /usr/local/lib/python3.11/dist-packages (7.2.8)\n",
            "Requirement already satisfied: PyYAML>=5.1 in /usr/local/lib/python3.11/dist-packages (from pyngrok) (6.0.2)\n",
            "Requirement already satisfied: streamlit in /usr/local/lib/python3.11/dist-packages (1.45.1)\n",
            "Requirement already satisfied: altair<6,>=4.0 in /usr/local/lib/python3.11/dist-packages (from streamlit) (5.5.0)\n",
            "Requirement already satisfied: blinker<2,>=1.5.0 in /usr/local/lib/python3.11/dist-packages (from streamlit) (1.9.0)\n",
            "Requirement already satisfied: cachetools<6,>=4.0 in /usr/local/lib/python3.11/dist-packages (from streamlit) (5.5.2)\n",
            "Requirement already satisfied: click<9,>=7.0 in /usr/local/lib/python3.11/dist-packages (from streamlit) (8.2.0)\n",
            "Requirement already satisfied: numpy<3,>=1.23 in /usr/local/lib/python3.11/dist-packages (from streamlit) (2.0.2)\n",
            "Requirement already satisfied: packaging<25,>=20 in /usr/local/lib/python3.11/dist-packages (from streamlit) (24.2)\n",
            "Requirement already satisfied: pandas<3,>=1.4.0 in /usr/local/lib/python3.11/dist-packages (from streamlit) (2.2.2)\n",
            "Requirement already satisfied: pillow<12,>=7.1.0 in /usr/local/lib/python3.11/dist-packages (from streamlit) (11.2.1)\n",
            "Requirement already satisfied: protobuf<7,>=3.20 in /usr/local/lib/python3.11/dist-packages (from streamlit) (5.29.4)\n",
            "Requirement already satisfied: pyarrow>=7.0 in /usr/local/lib/python3.11/dist-packages (from streamlit) (18.1.0)\n",
            "Requirement already satisfied: requests<3,>=2.27 in /usr/local/lib/python3.11/dist-packages (from streamlit) (2.32.3)\n",
            "Requirement already satisfied: tenacity<10,>=8.1.0 in /usr/local/lib/python3.11/dist-packages (from streamlit) (9.1.2)\n",
            "Requirement already satisfied: toml<2,>=0.10.1 in /usr/local/lib/python3.11/dist-packages (from streamlit) (0.10.2)\n",
            "Requirement already satisfied: typing-extensions<5,>=4.4.0 in /usr/local/lib/python3.11/dist-packages (from streamlit) (4.13.2)\n",
            "Requirement already satisfied: watchdog<7,>=2.1.5 in /usr/local/lib/python3.11/dist-packages (from streamlit) (6.0.0)\n",
            "Requirement already satisfied: gitpython!=3.1.19,<4,>=3.0.7 in /usr/local/lib/python3.11/dist-packages (from streamlit) (3.1.44)\n",
            "Requirement already satisfied: pydeck<1,>=0.8.0b4 in /usr/local/lib/python3.11/dist-packages (from streamlit) (0.9.1)\n",
            "Requirement already satisfied: tornado<7,>=6.0.3 in /usr/local/lib/python3.11/dist-packages (from streamlit) (6.4.2)\n",
            "Requirement already satisfied: jinja2 in /usr/local/lib/python3.11/dist-packages (from altair<6,>=4.0->streamlit) (3.1.6)\n",
            "Requirement already satisfied: jsonschema>=3.0 in /usr/local/lib/python3.11/dist-packages (from altair<6,>=4.0->streamlit) (4.23.0)\n",
            "Requirement already satisfied: narwhals>=1.14.2 in /usr/local/lib/python3.11/dist-packages (from altair<6,>=4.0->streamlit) (1.39.0)\n",
            "Requirement already satisfied: gitdb<5,>=4.0.1 in /usr/local/lib/python3.11/dist-packages (from gitpython!=3.1.19,<4,>=3.0.7->streamlit) (4.0.12)\n",
            "Requirement already satisfied: python-dateutil>=2.8.2 in /usr/local/lib/python3.11/dist-packages (from pandas<3,>=1.4.0->streamlit) (2.9.0.post0)\n",
            "Requirement already satisfied: pytz>=2020.1 in /usr/local/lib/python3.11/dist-packages (from pandas<3,>=1.4.0->streamlit) (2025.2)\n",
            "Requirement already satisfied: tzdata>=2022.7 in /usr/local/lib/python3.11/dist-packages (from pandas<3,>=1.4.0->streamlit) (2025.2)\n",
            "Requirement already satisfied: charset-normalizer<4,>=2 in /usr/local/lib/python3.11/dist-packages (from requests<3,>=2.27->streamlit) (3.4.2)\n",
            "Requirement already satisfied: idna<4,>=2.5 in /usr/local/lib/python3.11/dist-packages (from requests<3,>=2.27->streamlit) (3.10)\n",
            "Requirement already satisfied: urllib3<3,>=1.21.1 in /usr/local/lib/python3.11/dist-packages (from requests<3,>=2.27->streamlit) (2.4.0)\n",
            "Requirement already satisfied: certifi>=2017.4.17 in /usr/local/lib/python3.11/dist-packages (from requests<3,>=2.27->streamlit) (2025.4.26)\n",
            "Requirement already satisfied: smmap<6,>=3.0.1 in /usr/local/lib/python3.11/dist-packages (from gitdb<5,>=4.0.1->gitpython!=3.1.19,<4,>=3.0.7->streamlit) (5.0.2)\n",
            "Requirement already satisfied: MarkupSafe>=2.0 in /usr/local/lib/python3.11/dist-packages (from jinja2->altair<6,>=4.0->streamlit) (3.0.2)\n",
            "Requirement already satisfied: attrs>=22.2.0 in /usr/local/lib/python3.11/dist-packages (from jsonschema>=3.0->altair<6,>=4.0->streamlit) (25.3.0)\n",
            "Requirement already satisfied: jsonschema-specifications>=2023.03.6 in /usr/local/lib/python3.11/dist-packages (from jsonschema>=3.0->altair<6,>=4.0->streamlit) (2025.4.1)\n",
            "Requirement already satisfied: referencing>=0.28.4 in /usr/local/lib/python3.11/dist-packages (from jsonschema>=3.0->altair<6,>=4.0->streamlit) (0.36.2)\n",
            "Requirement already satisfied: rpds-py>=0.7.1 in /usr/local/lib/python3.11/dist-packages (from jsonschema>=3.0->altair<6,>=4.0->streamlit) (0.24.0)\n",
            "Requirement already satisfied: six>=1.5 in /usr/local/lib/python3.11/dist-packages (from python-dateutil>=2.8.2->pandas<3,>=1.4.0->streamlit) (1.17.0)\n"
          ]
        }
      ]
    },
    {
      "cell_type": "code",
      "source": [
        "from google.colab import drive\n",
        "\n",
        "# Montar Google Drive\n",
        "drive.mount('/content/drive')\n",
        "print(\"Google Drive montado con éxito.\")"
      ],
      "metadata": {
        "colab": {
          "base_uri": "https://localhost:8080/"
        },
        "id": "-0AXe9RZ4q6T",
        "outputId": "dcfd209a-7971-421a-e44c-63c6272eb683"
      },
      "execution_count": null,
      "outputs": [
        {
          "output_type": "stream",
          "name": "stdout",
          "text": [
            "Drive already mounted at /content/drive; to attempt to forcibly remount, call drive.mount(\"/content/drive\", force_remount=True).\n",
            "Google Drive montado con éxito.\n"
          ]
        }
      ]
    },
    {
      "cell_type": "code",
      "execution_count": null,
      "metadata": {
        "colab": {
          "base_uri": "https://localhost:8080/"
        },
        "id": "E6qzd7Ge4WFr",
        "outputId": "d4962cbb-db72-40ed-8beb-673058bd907d"
      },
      "outputs": [
        {
          "output_type": "stream",
          "name": "stdout",
          "text": [
            "Overwriting app.py\n"
          ]
        }
      ],
      "source": [
        "%%writefile app.py\n",
        "import streamlit as st\n",
        "import pandas as pd\n",
        "import numpy as np\n",
        "import plotly.express as px\n",
        "import pickle\n",
        "from sklearn.metrics import mean_absolute_error, mean_squared_error, r2_score\n",
        "import os\n",
        "\n",
        "# --- Configuración de la página Streamlit ---\n",
        "st.set_page_config(page_title=\"Comparación de Modelos de Regresión\", layout=\"wide\")\n",
        "\n",
        "# IMPORTANTE: Define las rutas base de tus archivos en Google Drive\n",
        "DRIVE_FILES_BASE_PATH_1 = '/content/drive/MyDrive/MODELOS_TAM/TEST_DATA' # Ruta para Xtest y ytest\n",
        "DRIVE_FILES_BASE_PATH_3 = '/content/drive/MyDrive/MODELOS_TAM/RESULTS_DATA' # Ruta para los resultados y predicciones precalculados\n",
        "\n",
        "# --- Define el tipo de búsqueda que quieres cargar por defecto en el dashboard ---\n",
        "# Puedes cambiar esto a \"GridSearch\" si prefieres ver esos resultados.\n",
        "DEFAULT_SEARCH_TYPE_TO_LOAD = \"RandomizedSearch\"\n",
        "\n",
        "# --- Funciones de Carga con Caché ---\n",
        "\n",
        "@st.cache_data\n",
        "def load_test_data(base_path):\n",
        "    \"\"\"Carga los datos de test (X y y) desde archivos CSV en Drive.\"\"\"\n",
        "    try:\n",
        "        X_path = os.path.join(base_path, 'Xtest_for_streamlit.csv')\n",
        "        y_path = os.path.join(base_path, 'ytest_for_streamlit.csv')\n",
        "\n",
        "        X_test = pd.read_csv(X_path)\n",
        "        y_test = pd.read_csv(y_path).squeeze() # .squeeze() si y_test es una Serie de una columna\n",
        "        st.sidebar.success(\"Datos de test (Xtest, ytest) cargados.\")\n",
        "        return X_test, y_test\n",
        "    except FileNotFoundError:\n",
        "        st.error(f\"Archivos de test (Xtest, ytest) no encontrados en '{base_path}'. Son necesarios para las gráficas y exploración de datos.\")\n",
        "        return pd.DataFrame(), pd.Series()\n",
        "    except Exception as e:\n",
        "        st.error(f\"Error al cargar los datos de test: {e}\")\n",
        "        return pd.DataFrame(), pd.Series()\n",
        "\n",
        "@st.cache_data\n",
        "def load_results_data(base_path, search_type):\n",
        "    \"\"\"Carga los resultados de métricas (final_test_results y cv_grid_results) con una etiqueta de búsqueda.\"\"\"\n",
        "    try:\n",
        "        final_results_df = pd.read_csv(os.path.join(base_path, f'final_test_results_{search_type}.csv'), index_col=0)\n",
        "        cv_results_df = pd.read_csv(os.path.join(base_path, f'cv_grid_results_{search_type}.csv'))\n",
        "        st.sidebar.success(f\"Resultados de métricas ({search_type}) cargados.\")\n",
        "        return final_results_df, cv_results_df\n",
        "    except FileNotFoundError:\n",
        "        st.error(f\"Archivos de resultados ({search_type}) no encontrados en '{base_path}'. Asegúrate de haberlos guardado con esta etiqueta.\")\n",
        "        return pd.DataFrame(), pd.DataFrame()\n",
        "    except Exception as e:\n",
        "        st.error(f\"Error al cargar resultados de métricas ({search_type}): {e}\")\n",
        "        return pd.DataFrame(), pd.DataFrame()\n",
        "\n",
        "@st.cache_data\n",
        "def load_predictions_data(base_path, search_type):\n",
        "    \"\"\"Carga el diccionario de predicciones (y_preds_for_plot) con una etiqueta de búsqueda.\"\"\"\n",
        "    try:\n",
        "        y_preds_pickle_path = os.path.join(base_path, f'y_preds_for_plot_{search_type}.pkl')\n",
        "        with open(y_preds_pickle_path, 'rb') as f:\n",
        "            y_preds_for_plot = pickle.load(f)\n",
        "        st.sidebar.success(f\"Predicciones ({search_type}) cargadas.\")\n",
        "        return y_preds_for_plot\n",
        "    except FileNotFoundError:\n",
        "        st.error(f\"Archivo de predicciones (y_preds_for_plot_{search_type}.pkl) no encontrado en '{base_path}'. Asegúrate de haberlo guardado con esta etiqueta.\")\n",
        "        return {}\n",
        "    except Exception as e:\n",
        "        st.error(f\"Error al cargar predicciones ({search_type}): {e}\")\n",
        "        return {}\n",
        "\n",
        "# --- Título del Dashboard ---\n",
        "st.title(\"Comparación de Modelos de Regresión para Precios de Viviendas\")\n",
        "st.markdown(\"Este dashboard visualiza el rendimiento de varios modelos de regresión optimizados.\")\n",
        "\n",
        "# --- Carga de Datos y Resultados Precalculados ---\n",
        "Xtest_st, ytest_st = load_test_data(DRIVE_FILES_BASE_PATH_1)\n",
        "final_test_results_df_st, cv_grid_results_df_st = load_results_data(DRIVE_FILES_BASE_PATH_3, DEFAULT_SEARCH_TYPE_TO_LOAD)\n",
        "y_preds_for_plot_st = load_predictions_data(DRIVE_FILES_BASE_PATH_3, DEFAULT_SEARCH_TYPE_TO_LOAD)\n",
        "\n",
        "\n",
        "# --- Verificar si se cargaron todos los datos y resultados necesarios ---\n",
        "if Xtest_st.empty or ytest_st.empty or final_test_results_df_st.empty or not y_preds_for_plot_st:\n",
        "    st.warning(\"No se pudieron cargar todos los datos o resultados necesarios para la visualización. Por favor, verifica las rutas de Drive y que los archivos CSV/PKL existan.\")\n",
        "    st.stop() # Detiene la ejecución si no hay datos o resultados\n",
        "\n",
        "# --- Pestañas del Dashboard ---\n",
        "tab1, tab2, tab3 = st.tabs([\"Rendimiento del Modelo\", \"Gráficas de Predicción\", \"Exploración de Datos (Test)\"])\n",
        "\n",
        "with tab1:\n",
        "    st.header(f\"Rendimiento Comparativo de Modelos en el Conjunto de Test ({DEFAULT_SEARCH_TYPE_TO_LOAD} Resultados)\")\n",
        "    # Formateo numérico robusto:\n",
        "    numeric_cols_format_final = {}\n",
        "    for col in final_test_results_df_st.columns:\n",
        "        if pd.api.types.is_numeric_dtype(final_test_results_df_st[col]):\n",
        "            numeric_cols_format_final[col] = \"{:.3f}\"\n",
        "    st.dataframe(final_test_results_df_st.style.format(numeric_cols_format_final))\n",
        "\n",
        "    st.subheader(f\"Rendimiento en Cross-Validation (Métricas del Mejor Estimador - {DEFAULT_SEARCH_TYPE_TO_LOAD} Resultados)\")\n",
        "    # Formateo numérico robusto para CV:\n",
        "    numeric_cols_format_cv = {}\n",
        "    for col in cv_grid_results_df_st.columns:\n",
        "        if pd.api.types.is_numeric_dtype(cv_grid_results_df_st[col]):\n",
        "            numeric_cols_format_cv[col] = \"{:.3f}\"\n",
        "        # Puedes añadir una excepción para la columna 'Model' si es una cadena y no quieres formatearla\n",
        "        elif col == 'Model' or col.startswith('Param_'): # Los parámetros también pueden ser strings\n",
        "            numeric_cols_format_cv[col] = \"{}\" # Formato genérico para no numéricos\n",
        "    st.dataframe(cv_grid_results_df_st.style.format(numeric_cols_format_cv))\n",
        "\n",
        "\n",
        "with tab2:\n",
        "    st.header(\"Gráficas de Valores Reales vs. Predichos\")\n",
        "\n",
        "    # Colores para las gráficas\n",
        "    colors = {\n",
        "        \"LinearRegression\": \"blue\", \"Lasso\": \"red\", \"ElasticNet\": \"green\",\n",
        "        \"KernelRidge\": \"purple\", \"SGDRegressor\": \"orange\", \"BayesianRidge\": \"brown\",\n",
        "        \"RandomForestRegressor\": \"darkgreen\", \"SVR\": \"darkred\", \"GaussianProcessRegressor\": \"darkcyan\"\n",
        "    }\n",
        "\n",
        "    selected_model_for_plot = st.selectbox(\n",
        "        \"Selecciona un modelo para ver su gráfica de dispersión:\",\n",
        "        options=list(y_preds_for_plot_st.keys())\n",
        "    )\n",
        "\n",
        "    if selected_model_for_plot and selected_model_for_plot in y_preds_for_plot_st:\n",
        "        y_pred_current = y_preds_for_plot_st[selected_model_for_plot]\n",
        "\n",
        "        fig = px.scatter(\n",
        "            x=ytest_st, y=y_pred_current,\n",
        "            labels={'x': 'Valores Reales (ytest)', 'y': f'Valores Predichos ({selected_model_for_plot})'},\n",
        "            title=f'{selected_model_for_plot}: Valores Reales vs. Predichos en Test Set',\n",
        "            color_discrete_sequence=[colors.get(selected_model_for_plot, 'gray')]\n",
        "        )\n",
        "\n",
        "        # Añadir la línea de predicción ideal (y=x)\n",
        "        min_val = min(ytest_st.min(), y_pred_current.min())\n",
        "        max_val = max(ytest_st.max(), y_pred_current.max())\n",
        "        fig.add_shape(type=\"line\", x0=min_val, y0=min_val, x1=max_val, y1=max_val,\n",
        "                      line=dict(color=\"black\", width=2, dash=\"dash\"),\n",
        "                      name='Predicción Ideal (y=x)')\n",
        "\n",
        "        st.plotly_chart(fig, use_container_width=True)\n",
        "    else:\n",
        "        st.warning(\"Selecciona un modelo válido para visualizar su gráfica.\")\n",
        "\n",
        "with tab3:\n",
        "    st.header(\"Exploración del Conjunto de Datos de Test\")\n",
        "    if not Xtest_st.empty:\n",
        "        st.subheader(\"Muestra de Datos de Características (Xtest)\")\n",
        "        st.dataframe(Xtest_st.head())\n",
        "\n",
        "        st.subheader(\"Estadísticas Descriptivas de Características (Xtest)\")\n",
        "        st.dataframe(Xtest_st.describe().round(2))\n",
        "\n",
        "        st.subheader(\"Distribución de la Variable Objetivo (ytest)\")\n",
        "        fig_ytest_hist = px.histogram(ytest_st, title='Distribución de Valores Reales (ytest)')\n",
        "        st.plotly_chart(fig_ytest_hist, use_container_width=True)\n",
        "\n",
        "        st.subheader(\"Gráfico Interactivo de Columnas (Xtest)\")\n",
        "        col_to_plot = st.selectbox(\n",
        "            \"Selecciona una columna para graficar:\",\n",
        "            options=Xtest_st.columns,\n",
        "            index=0 if not Xtest_st.empty else 0\n",
        "        )\n",
        "        if col_to_plot:\n",
        "            if pd.api.types.is_numeric_dtype(Xtest_st[col_to_plot]):\n",
        "                fig_col = px.histogram(Xtest_st, x=col_to_plot, title=f'Distribución de {col_to_plot}')\n",
        "            else:\n",
        "                fig_col = px.bar(Xtest_st[col_to_plot].value_counts().reset_index(),\n",
        "                                 x='index', y=col_to_plot, title=f'Conteo de {col_to_plot}')\n",
        "            st.plotly_chart(fig_col, use_container_width=True)\n",
        "    else:\n",
        "        st.warning(\"No hay datos de test disponibles para explorar.\")"
      ]
    },
    {
      "cell_type": "code",
      "source": [
        "# Celda nueva: Detener procesos de ngrok y liberar el puerto\n",
        "print(\"Deteniendo cualquier proceso de ngrok existente...\")\n",
        "!killall ngrok > /dev/null 2>&1 # Intenta matar todos los procesos de ngrok\n",
        "\n",
        "print(\"Liberando el puerto 8501 si está en uso...\")\n",
        "# Encuentra y mata cualquier proceso que esté usando el puerto 8501\n",
        "!fuser -k 8501/tcp > /dev/null 2>&1 || true\n",
        "\n",
        "print(\"Limpieza completada. Ahora puedes intentar iniciar Streamlit de nuevo.\")"
      ],
      "metadata": {
        "colab": {
          "base_uri": "https://localhost:8080/"
        },
        "id": "N19S7j9jFlHk",
        "outputId": "3761391f-58fd-4ca6-a1a0-ca1e0890234b"
      },
      "execution_count": null,
      "outputs": [
        {
          "output_type": "stream",
          "name": "stdout",
          "text": [
            "Deteniendo cualquier proceso de ngrok existente...\n",
            "Liberando el puerto 8501 si está en uso...\n",
            "Limpieza completada. Ahora puedes intentar iniciar Streamlit de nuevo.\n"
          ]
        }
      ]
    },
    {
      "cell_type": "code",
      "source": [
        "from pyngrok import ngrok\n",
        "import threading\n",
        "import time\n",
        "\n",
        "# Opcional: Autentica ngrok si tienes un token para evitar límites de tiempo\n",
        "ngrok.set_auth_token(\"2xbtLOEkytIQJvweL5UHGOuUCTv_3vr83C6BkLdGb8KxmHcXJ\") # <--- Descomenta y reemplaza si tienes un token\n",
        "\n",
        "# Inicia Streamlit en un hilo de fondo\n",
        "def run_streamlit():\n",
        "    # Deshabilitamos la protección CSRF para Colab/ngrok para evitar problemas de conexión.\n",
        "    # También deshabilitamos CORS para permitir el acceso desde el túnel.\n",
        "    !streamlit run app.py --server.port 8501 --server.enableCORS false --server.enableXsrfProtection false\n",
        "\n",
        "print(\"Iniciando Streamlit...\")\n",
        "threading.Thread(target=run_streamlit).start()\n",
        "\n",
        "# Espera un momento para que Streamlit se inicie completamente\n",
        "time.sleep(10) # Aumentado a 10 segundos para dar más tiempo a que Streamlit y los modelos se carguen\n",
        "\n",
        "# Configura ngrok para exponer el puerto de Streamlit (8501)\n",
        "try:\n",
        "    public_url = ngrok.connect(addr=\"8501\", proto=\"http\")\n",
        "    print(f\"Tu aplicación Streamlit está disponible en: {public_url}\")\n",
        "    print(\"¡Haz clic en el enlace de arriba para abrir tu dashboard!\")\n",
        "except Exception as e:\n",
        "    print(f\"Error al conectar con ngrok: {e}\")\n",
        "    print(\"Asegúrate de que Streamlit se está ejecutando correctamente y que el puerto 8501 está libre.\")\n",
        "    print(\"Si tienes un token de ngrok, asegúrate de haberlo configurado.\")"
      ],
      "metadata": {
        "colab": {
          "base_uri": "https://localhost:8080/"
        },
        "id": "HAqOfuCd7V7J",
        "outputId": "3771a84b-4726-4521-f2c0-e2e0eabf8b3e"
      },
      "execution_count": null,
      "outputs": [
        {
          "output_type": "stream",
          "name": "stdout",
          "text": [
            "Iniciando Streamlit...\n",
            "\n",
            "Collecting usage statistics. To deactivate, set browser.gatherUsageStats to false.\n",
            "\u001b[0m\n",
            "\u001b[0m\n",
            "\u001b[34m\u001b[1m  You can now view your Streamlit app in your browser.\u001b[0m\n",
            "\u001b[0m\n",
            "\u001b[34m  Local URL: \u001b[0m\u001b[1mhttp://localhost:8501\u001b[0m\n",
            "\u001b[34m  Network URL: \u001b[0m\u001b[1mhttp://172.28.0.12:8501\u001b[0m\n",
            "\u001b[34m  External URL: \u001b[0m\u001b[1mhttp://35.185.9.112:8501\u001b[0m\n",
            "\u001b[0m\n",
            "Tu aplicación Streamlit está disponible en: NgrokTunnel: \"https://4e1e-35-185-9-112.ngrok-free.app\" -> \"http://localhost:8501\"\n",
            "¡Haz clic en el enlace de arriba para abrir tu dashboard!\n"
          ]
        }
      ]
    }
  ]
}